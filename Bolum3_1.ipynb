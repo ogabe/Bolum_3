{
 "cells": [
  {
   "cell_type": "markdown",
   "metadata": {},
   "source": [
    "numpy kütüphanesini kullanarak üreteceğiniz 3 farklı veri aracılığı ile merkezi eğilim ve dağılım ölçümlerini hem yukarıda verilen matematiksel formülle hem de python'da hazır bulunan (built-in) kodlar aracılığıyla analiz edin!!!"
   ]
  },
  {
   "cell_type": "code",
   "execution_count": 14,
   "metadata": {},
   "outputs": [],
   "source": [
    "import pandas as pd\n",
    "import numpy as np\n",
    "import statistics\n",
    "\n",
    "df1 = pd.DataFrame()\n",
    "df2 = pd.DataFrame()\n",
    "df3 = pd.DataFrame()\n",
    "\n",
    "\n",
    "df1['erkek_yas'] = np.array([20,30,55,42,38,64,27,32,44,31])\n",
    "df2['kadin_yas'] = np.array([22,33,55,29,31,36,50,28,32,35])\n",
    "df3['cocuk_yas'] = np.array([5,7,9,12,4,10,8,6,9,2])"
   ]
  },
  {
   "cell_type": "code",
   "execution_count": 5,
   "metadata": {},
   "outputs": [
    {
     "name": "stdout",
     "output_type": "stream",
     "text": [
      "38.3\n",
      "35.1\n",
      "7.2\n"
     ]
    }
   ],
   "source": [
    "#Mean\n",
    "\n",
    "print(np.mean(erkek_yas))\n",
    "print(np.mean(kadin_yas))\n",
    "print(np.mean(cocuk_yas))"
   ]
  },
  {
   "cell_type": "code",
   "execution_count": 16,
   "metadata": {},
   "outputs": [
    {
     "name": "stdout",
     "output_type": "stream",
     "text": [
      "38.3\n",
      "35.1\n",
      "7.2\n"
     ]
    }
   ],
   "source": [
    "print(sum(erkek_yas)/len(erkek_yas))\n",
    "print(sum(kadin_yas)/len(kadin_yas))\n",
    "print(sum(cocuk_yas)/len(cocuk_yas))"
   ]
  },
  {
   "cell_type": "code",
   "execution_count": 7,
   "metadata": {},
   "outputs": [
    {
     "name": "stdout",
     "output_type": "stream",
     "text": [
      "35.0\n",
      "32.5\n",
      "7.5\n"
     ]
    }
   ],
   "source": [
    "#Median\n",
    "\n",
    "print(np.median(erkek_yas))\n",
    "print(np.median(kadin_yas))\n",
    "print(np.median(cocuk_yas))"
   ]
  },
  {
   "cell_type": "code",
   "execution_count": 8,
   "metadata": {},
   "outputs": [
    {
     "name": "stdout",
     "output_type": "stream",
     "text": [
      "35.0\n",
      "32.5\n",
      "7.5\n"
     ]
    }
   ],
   "source": [
    "print(statistics.median(erkek_yas))\n",
    "print(statistics.median(kadin_yas))\n",
    "print(statistics.median(cocuk_yas))"
   ]
  },
  {
   "cell_type": "code",
   "execution_count": 9,
   "metadata": {},
   "outputs": [
    {
     "name": "stdout",
     "output_type": "stream",
     "text": [
      "20\n",
      "22\n",
      "9\n"
     ]
    }
   ],
   "source": [
    "#Mod\n",
    "\n",
    "(values1, counts1) = np.unique(erkek_yas, return_counts=True)\n",
    "ind1 = np.argmax(counts1)\n",
    "print(values1[ind1])\n",
    "\n",
    "(values2, counts2) = np.unique(kadin_yas, return_counts=True)\n",
    "ind2 = np.argmax(counts2)\n",
    "print(values2[ind2])\n",
    "\n",
    "(values3, counts3) = np.unique(cocuk_yas, return_counts=True)\n",
    "ind3 = np.argmax(counts3)\n",
    "print(values3[ind3])\n"
   ]
  },
  {
   "cell_type": "code",
   "execution_count": 26,
   "metadata": {},
   "outputs": [
    {
     "name": "stdout",
     "output_type": "stream",
     "text": [
      "178.9\n",
      "100.98888888888888\n",
      "9.066666666666668\n",
      "178.9\n",
      "100.98888888888888\n",
      "9.066666666666668\n"
     ]
    }
   ],
   "source": [
    "#Varyans\n",
    "\n",
    "print(np.var(df1['erkek_yas'], ddof=1))\n",
    "print(np.var(df2['kadin_yas'], ddof=1))\n",
    "print(np.var(df3['cocuk_yas'], ddof=1))\n",
    "\n",
    "print(df1['erkek_yas'].var())\n",
    "print(df2['kadin_yas'].var())\n",
    "print(df3['cocuk_yas'].var())"
   ]
  },
  {
   "cell_type": "code",
   "execution_count": 27,
   "metadata": {},
   "outputs": [
    {
     "name": "stdout",
     "output_type": "stream",
     "text": [
      "13.375350462698165\n",
      "10.049322807477571\n",
      "3.0110906108363245\n"
     ]
    }
   ],
   "source": [
    "#Standart Sapma\n",
    "\n",
    "print(np.std(df1['erkek_yas'], ddof=1))\n",
    "print(np.std(df2['kadin_yas'], ddof=1))\n",
    "print(np.std(df3['cocuk_yas'], ddof=1))"
   ]
  },
  {
   "cell_type": "code",
   "execution_count": 30,
   "metadata": {},
   "outputs": [
    {
     "name": "stdout",
     "output_type": "stream",
     "text": [
      "4.2296571965113205\n",
      "3.17787490139069\n",
      "0.9521904571390467\n"
     ]
    }
   ],
   "source": [
    "#Standart Hata\n",
    "\n",
    "print(np.std(df1['erkek_yas'], ddof=1) / np.sqrt(len(df1['erkek_yas'])))\n",
    "print(np.std(df2['kadin_yas'], ddof=1) / np.sqrt(len(df2['kadin_yas'])))\n",
    "print(np.std(df3['cocuk_yas'], ddof=1) / np.sqrt(len(df3['cocuk_yas'])))"
   ]
  },
  {
   "cell_type": "code",
   "execution_count": null,
   "metadata": {},
   "outputs": [],
   "source": []
  }
 ],
 "metadata": {
  "kernelspec": {
   "display_name": "Python 3",
   "language": "python",
   "name": "python3"
  },
  "language_info": {
   "codemirror_mode": {
    "name": "ipython",
    "version": 3
   },
   "file_extension": ".py",
   "mimetype": "text/x-python",
   "name": "python",
   "nbconvert_exporter": "python",
   "pygments_lexer": "ipython3",
   "version": "3.7.1"
  }
 },
 "nbformat": 4,
 "nbformat_minor": 2
}
